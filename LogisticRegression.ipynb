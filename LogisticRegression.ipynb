{
 "cells": [
  {
   "cell_type": "markdown",
   "metadata": {
    "id": "-nl3gBMaK8_V"
   },
   "source": [
    "#Exercise sheet\n",
    "\n",
    "Cristina Acevedo \n"
   ]
  },
  {
   "cell_type": "code",
   "execution_count": 2,
   "metadata": {
    "id": "_MHXHHf2Kvqa"
   },
   "outputs": [],
   "source": [
    "import numpy as np\n",
    "import pandas as pd\n",
    "import random\n",
    "import matplotlib.pyplot as plt\n",
    "\n",
    "\n",
    "random.seed(3116)\n",
    "np.random.seed(3116)"
   ]
  },
  {
   "cell_type": "markdown",
   "metadata": {
    "id": "POFSUR4CMel9"
   },
   "source": [
    "Exercise 0: Dataset preprocessing"
   ]
  },
  {
   "cell_type": "code",
   "execution_count": 3,
   "metadata": {
    "colab": {
     "base_uri": "https://localhost:8080/",
     "height": 206
    },
    "id": "m8f4Oe8OLCmO",
    "outputId": "33fa44e1-df9c-4f04-c2c8-c1028794da0e"
   },
   "outputs": [
    {
     "data": {
      "text/html": [
       "<div>\n",
       "<style scoped>\n",
       "    .dataframe tbody tr th:only-of-type {\n",
       "        vertical-align: middle;\n",
       "    }\n",
       "\n",
       "    .dataframe tbody tr th {\n",
       "        vertical-align: top;\n",
       "    }\n",
       "\n",
       "    .dataframe thead th {\n",
       "        text-align: right;\n",
       "    }\n",
       "</style>\n",
       "<table border=\"1\" class=\"dataframe\">\n",
       "  <thead>\n",
       "    <tr style=\"text-align: right;\">\n",
       "      <th></th>\n",
       "      <th>0</th>\n",
       "      <th>1</th>\n",
       "      <th>2</th>\n",
       "      <th>3</th>\n",
       "      <th>4</th>\n",
       "      <th>5</th>\n",
       "      <th>6</th>\n",
       "      <th>7</th>\n",
       "      <th>8</th>\n",
       "      <th>9</th>\n",
       "    </tr>\n",
       "  </thead>\n",
       "  <tbody>\n",
       "    <tr>\n",
       "      <th>0</th>\n",
       "      <td>x</td>\n",
       "      <td>x</td>\n",
       "      <td>x</td>\n",
       "      <td>x</td>\n",
       "      <td>o</td>\n",
       "      <td>o</td>\n",
       "      <td>x</td>\n",
       "      <td>o</td>\n",
       "      <td>o</td>\n",
       "      <td>positive</td>\n",
       "    </tr>\n",
       "    <tr>\n",
       "      <th>1</th>\n",
       "      <td>x</td>\n",
       "      <td>x</td>\n",
       "      <td>x</td>\n",
       "      <td>x</td>\n",
       "      <td>o</td>\n",
       "      <td>o</td>\n",
       "      <td>o</td>\n",
       "      <td>x</td>\n",
       "      <td>o</td>\n",
       "      <td>positive</td>\n",
       "    </tr>\n",
       "    <tr>\n",
       "      <th>2</th>\n",
       "      <td>x</td>\n",
       "      <td>x</td>\n",
       "      <td>x</td>\n",
       "      <td>x</td>\n",
       "      <td>o</td>\n",
       "      <td>o</td>\n",
       "      <td>o</td>\n",
       "      <td>o</td>\n",
       "      <td>x</td>\n",
       "      <td>positive</td>\n",
       "    </tr>\n",
       "    <tr>\n",
       "      <th>3</th>\n",
       "      <td>x</td>\n",
       "      <td>x</td>\n",
       "      <td>x</td>\n",
       "      <td>x</td>\n",
       "      <td>o</td>\n",
       "      <td>o</td>\n",
       "      <td>o</td>\n",
       "      <td>b</td>\n",
       "      <td>b</td>\n",
       "      <td>positive</td>\n",
       "    </tr>\n",
       "    <tr>\n",
       "      <th>4</th>\n",
       "      <td>x</td>\n",
       "      <td>x</td>\n",
       "      <td>x</td>\n",
       "      <td>x</td>\n",
       "      <td>o</td>\n",
       "      <td>o</td>\n",
       "      <td>b</td>\n",
       "      <td>o</td>\n",
       "      <td>b</td>\n",
       "      <td>positive</td>\n",
       "    </tr>\n",
       "  </tbody>\n",
       "</table>\n",
       "</div>"
      ],
      "text/plain": [
       "   0  1  2  3  4  5  6  7  8         9\n",
       "0  x  x  x  x  o  o  x  o  o  positive\n",
       "1  x  x  x  x  o  o  o  x  o  positive\n",
       "2  x  x  x  x  o  o  o  o  x  positive\n",
       "3  x  x  x  x  o  o  o  b  b  positive\n",
       "4  x  x  x  x  o  o  b  o  b  positive"
      ]
     },
     "execution_count": 3,
     "metadata": {},
     "output_type": "execute_result"
    }
   ],
   "source": [
    "data=pd.read_table('tic-tac-toe.data', header=None, delimiter=',')#Load data\n",
    "data.head()"
   ]
  },
  {
   "cell_type": "code",
   "execution_count": 4,
   "metadata": {
    "id": "K8kw969ULtg8"
   },
   "outputs": [],
   "source": [
    "#Convert any non-numeric values to numeric values.\n",
    "\n",
    "data=data.replace(['x','o', 'b','positive','negative'],[1, -1, 0, 1, 0]).rename(columns={9: \"class\"}) #Replace non numeric values and rename results"
   ]
  },
  {
   "cell_type": "code",
   "execution_count": 5,
   "metadata": {
    "colab": {
     "base_uri": "https://localhost:8080/"
    },
    "id": "Ai6jRFPHM2CA",
    "outputId": "e0cea9bf-4180-4923-9a33-3583395dc768"
   },
   "outputs": [
    {
     "data": {
      "text/plain": [
       "1    626\n",
       "0    332\n",
       "Name: class, dtype: int64"
      ]
     },
     "execution_count": 5,
     "metadata": {},
     "output_type": "execute_result"
    }
   ],
   "source": [
    "#This dataset is unbalanced, (show how we can confirm this)\n",
    "data['class'].value_counts() #There are many more examples of class positive than class negative\n",
    "\n",
    "#A stratified sampler will divide the data by class and then randomly sample from each class the same number of elements\n",
    "#thus we obtain groups of the same size for each one of the classes"
   ]
  },
  {
   "cell_type": "code",
   "execution_count": 6,
   "metadata": {
    "id": "K-ZEoGQaN1Yy"
   },
   "outputs": [],
   "source": [
    "#Implement a stratified sampler.\n",
    "\n",
    "def stratifiedsampler(data, column, class_values, sample_size):\n",
    "  result = data[0:0]\n",
    "  \n",
    "  for i in class_values:\n",
    "    filtered_data=data[data[column]==i].reset_index(drop=True) #Get data from i class_value\n",
    "    idx=random.sample(range(len(filtered_data)), sample_size) #Get random index\n",
    "    for j in idx:\n",
    "      result=result.append(filtered_data.iloc[j,:]) #Save the selected sample\n",
    "  result.reset_index(drop=True) #Reset index result\n",
    "  return result\n",
    "\n",
    "newdata=stratifiedsampler(data, 'class', [1, 0], 200)"
   ]
  },
  {
   "cell_type": "code",
   "execution_count": 7,
   "metadata": {
    "id": "t38uoJJFRNZn"
   },
   "outputs": [],
   "source": [
    "#Split the data into a train(80%) and test(20%)\n",
    "\n",
    "n=list(range(len(newdata)))#Get indexes of newdata\n",
    "random.shuffle(n) #Shuffle the order \n",
    "\n",
    "limit=round(len(n)/100*80)\n",
    "train=n[0:limit] #Get first 80% indexes for training\n",
    "test=n[limit:] #Get 20% indexes left for testing\n",
    "\n",
    "data_train=newdata.iloc[train].to_numpy() #Distribute dataset\n",
    "data_test=newdata.iloc[test].to_numpy() #Distribute dataset\n",
    "\n",
    "y_train=data_train[:,-1]\n",
    "x_train=data_train[:,0:-1]\n",
    "y_test=data_test[:,-1]\n",
    "x_test=data_test[:,0:-1]"
   ]
  },
  {
   "cell_type": "markdown",
   "metadata": {
    "id": "6Rc7g6fyVnMr"
   },
   "source": [
    "Exercise 1: Logistic Regression with Gradient Descent"
   ]
  },
  {
   "cell_type": "code",
   "execution_count": 8,
   "metadata": {
    "id": "tpZamxFrRu0D"
   },
   "outputs": [],
   "source": [
    "#Implement learn-logreg-GA. Choose imax between 100 to 1000\n",
    "#You will use bolddriver as the step length controller.\n",
    "\n",
    "def learn_logreg_GA(x, y, mu, tmax, eps):\n",
    "  beta=np.zeros(len(x[0])) #Initialize beta as 0's\n",
    "  allbetas=beta #Save beta's current value\n",
    "  l=loss_function(x,y,beta) #Calculate loss\n",
    "  losses=np.array([l]) #Create array to store losses\n",
    "  logloss=[] #Create array to store log losses\n",
    "  for i in range(tmax):\n",
    "    yhat=logistic_reg(x, beta) #Calculate y from x and beta with logistic regression\n",
    "    logloss.append(log_loss(y, yhat)) #Save logloss\n",
    "\n",
    "    mu=bolddriver(x,y,beta,mu,1.1,0.5) #Calculate mu from bolddriver\n",
    "    oldbeta=beta\n",
    "\n",
    "    beta=beta+mu*loss_derivative(x,y,beta) #Calculate new beta with gradient ascent\n",
    "    allbetas=np.vstack([allbetas, beta]) #Save beta's value\n",
    "    losses=np.vstack([losses, abs(loss_function(x,y,beta)-loss_function(x,y,oldbeta))]) #Save loss difference\n",
    "    \n",
    "    l_old=l\n",
    "    l=loss_function(x,y,beta)\n",
    "    if l-l_old<eps:\n",
    "      return allbetas, losses, logloss\n",
    "\n",
    "  raise Exception(f'not converged in {tmax} iterations')\n",
    "\n",
    "\n",
    "#Adapt to logistic regression\n",
    "def bolddriver(x,y,beta, mu, muincrease, mudecrease):\n",
    "  new_beta=beta+mu*-loss_derivative(x,y,beta)\n",
    "  improvement=False\n",
    "  old_loss=loss_function(x,y,beta)\n",
    "  new_loss=loss_function(x,y,new_beta)\n",
    "  if old_loss>new_loss: #While it's not improving, make shorter step\n",
    "    while improvement==0:\n",
    "      mu=mu*mudecrease\n",
    "      new_beta=beta+mu*-loss_derivative(x,y,beta)\n",
    "      old_loss=loss_function(x,y,beta)\n",
    "      new_loss=loss_function(x,y,new_beta)\n",
    "      if old_loss>new_loss:\n",
    "        improvement=True\n",
    "        return mu\n",
    "  else: #If direction is right, make a bigger step\n",
    "    improvement=True\n",
    "    while improvement==True:\n",
    "      mu=mu*muincrease\n",
    "      new_beta=beta+mu*-loss_derivative(x,y,beta)\n",
    "      old_loss=loss_function(x,y,beta)\n",
    "      new_loss=loss_function(x,y,new_beta)\n",
    "      if old_loss>new_loss:\n",
    "        improvement=False\n",
    "        return mu\n",
    "\n",
    "\n",
    "def loss_function(x,y,beta):\n",
    "  return sum(np.dot(y,np.dot(x,beta))-np.log(1+np.e**(np.dot(x,beta))))\n",
    "\n",
    "def logistic_reg(xs, betas):\n",
    "  return 1/(1+np.e**(-np.dot(xs,betas)))\n",
    "\n",
    "def loss_derivative(x,y,beta):\n",
    "  yhat=logistic_reg(x,beta)\n",
    "  return np.dot(np.transpose(x),(y-yhat))\n",
    "\n",
    "#Link in exercise sheet didn't work, so I used https://www.kaggle.com/ikennaanigbogu/understanding-logloss instead\n",
    "def log_loss(y, y_hat, eps=1e-15):\n",
    "  p=np.clip(y_hat, eps, 1-eps) #Limits the range of predictions and makes sure we never take log(0)\n",
    "  answer=0\n",
    "  for i in range(len(y)):\n",
    "    if y[i] ==1:\n",
    "      answer=answer-np.log(p[i])\n",
    "    else:\n",
    "      answer=answer-np.log(1-p[i])\n",
    "  return answer\n",
    " "
   ]
  },
  {
   "cell_type": "code",
   "execution_count": 9,
   "metadata": {
    "id": "xdE_mzGn70du"
   },
   "outputs": [],
   "source": [
    "betas, lossdifference, logloss=learn_logreg_GA(x_train,y_train,0.01,1000,0.001)"
   ]
  },
  {
   "cell_type": "code",
   "execution_count": 10,
   "metadata": {
    "colab": {
     "base_uri": "https://localhost:8080/",
     "height": 313
    },
    "id": "dLaAoPwPasnp",
    "outputId": "1ed18128-fedd-45c5-ad0a-f8724da41d47"
   },
   "outputs": [
    {
     "data": {
      "text/plain": [
       "Text(0, 0.5, '$l(beta_i)-l(beta_{i+1})$')"
      ]
     },
     "execution_count": 10,
     "metadata": {},
     "output_type": "execute_result"
    },
    {
     "data": {
      "image/png": "[encoded data removed]",
      "text/plain": [
       "<Figure size 432x288 with 1 Axes>"
      ]
     },
     "metadata": {
      "needs_background": "light"
     },
     "output_type": "display_data"
    }
   ],
   "source": [
    "plt.plot(lossdifference[1:],'b') \n",
    "plt.title('Loss difference between steps')\n",
    "plt.xlabel('iteration')\n",
    "plt.ylabel('$l(beta_i)-l(beta_{i+1})$')\n",
    "#The difference in loss between steps gets smaller with every iteration.\n",
    "#This means, as we approach the optimal solution, the improvements are diminishing\n",
    "#until they are very small and more steps will no longer improve the results"
   ]
  },
  {
   "cell_type": "code",
   "execution_count": 11,
   "metadata": {
    "colab": {
     "base_uri": "https://localhost:8080/",
     "height": 313
    },
    "id": "NLxnD3mGQaoC",
    "outputId": "8239fac0-8135-48a5-b0e7-33403a48cf07"
   },
   "outputs": [
    {
     "data": {
      "text/plain": [
       "Text(0, 0.5, 'Log loss(beta)')"
      ]
     },
     "execution_count": 11,
     "metadata": {},
     "output_type": "execute_result"
    },
    {
     "data": {
      "image/png": "[encoded data removed]",
      "text/plain": [
       "<Figure size 432x288 with 1 Axes>"
      ]
     },
     "metadata": {
      "needs_background": "light"
     },
     "output_type": "display_data"
    }
   ],
   "source": [
    "plt.plot(logloss,'r')\n",
    "plt.title('Log loss at each step')\n",
    "plt.xlabel('iteration')\n",
    "plt.ylabel('Log loss(beta)')\n",
    "#The log loss should be getting smaller with every step, which is true for this case\n",
    "#As the likelihood is a gain function, log loss may be used instead to find minimum value\n",
    "#As we iterate, the log loss gets smaller, so the results of the model improve\n",
    "#In the end, improvements get smaller until we decide to stop the learning algorithm."
   ]
  },
  {
   "cell_type": "code",
   "execution_count": 12,
   "metadata": {
    "id": "lR_3bhOE7fJl"
   },
   "outputs": [],
   "source": [
    "def min_newton(x,y,beta,mu, tmax, eps):\n",
    "  losses=[]\n",
    "  logloss=[]\n",
    "  for i in range(tmax):\n",
    "    g=nabla(x,y,beta) #Calculate derivative\n",
    "    h=hessian(x,y,beta) #Calculate hessian\n",
    "    old_beta=beta #Save old beta before calculating new one\n",
    "\n",
    "    beta=beta+mu*np.dot(np.linalg.inv(h),g) #Calculate next beta\n",
    "\n",
    "    losses.append(sum(f(x,y,old_beta))-sum(f(x,y,beta))) #Save loss difference\n",
    "    logloss.append(sum(f(x,y,beta))) #Save logloss\n",
    "\n",
    "    if sum(f(x,y,old_beta))-sum(f(x,y,beta))<eps: #Stop if improvement is not significant\n",
    "      return beta, losses, logloss\n",
    "  raise Exception(\"maximum iterations limit\") \n",
    "\n",
    "def f(x,y,beta): #Log likelihood function\n",
    "  return np.dot(y,np.dot(x,beta))-np.log(1+np.e**(np.dot(x,beta)))\n",
    "\n",
    "def nabla(x,y,beta): #Log likelihood derivative\n",
    "  yhat=logistic_reg(x,beta) #Calculate y from x and beta\n",
    "  return np.dot(np.transpose(x),(y-yhat))\n",
    "\n",
    "def hessian(x,y,beta): #Log likelihood hessian\n",
    "  yhat=logistic_reg(x,beta) #Calculate y from x and beta\n",
    "  w=f(x,yhat,beta)*(1-f(x,yhat,beta)) #Get diagonal terms\n",
    "  return np.dot(np.transpose(x),np.dot(np.diag(w),x)) #Calculate \n",
    "\n",
    "def learn_log_reg(x,y,mu,tmax,eps):\n",
    "  #Define beta\n",
    "  beta=np.zeros(len(x[0])) #Initialize beta as 0's\n",
    "  beta, losses, logloss=min_newton(x,y,beta,mu,tmax,eps) #Call minimizing function\n",
    "  return beta, losses, logloss\n",
    "\n",
    "def log_loss(y, y_hat, eps=1e-15):\n",
    "  p=np.clip(y_hat, eps, 1-eps) #Limits the range of predictions and makes sure we never take log(0)\n",
    "  answer=0\n",
    "  for i in range(len(y)):\n",
    "    if y[i] ==1:\n",
    "      answer=answer-np.log(p[i]) #If answer is 1 substract log of probability\n",
    "    else:\n",
    "      answer=answer-np.log(1-p[i]) #Is answer is 0 substract log of 1-probability\n",
    "  return answer\n",
    "\n",
    "def logistic_reg(xs, betas):\n",
    "  return np.e**(np.dot(xs,betas))/(1+np.e**(np.dot(xs,betas))) #Function sigma(z) for logistic regression"
   ]
  },
  {
   "cell_type": "code",
   "execution_count": 13,
   "metadata": {
    "id": "anLrEaLzTfxa"
   },
   "outputs": [],
   "source": [
    "beta, losses, logloss=learn_log_reg(x_train,y_train,0.01,1000,10)"
   ]
  },
  {
   "cell_type": "code",
   "execution_count": 14,
   "metadata": {
    "colab": {
     "base_uri": "https://localhost:8080/",
     "height": 313
    },
    "id": "MmPjZlrVZ53a",
    "outputId": "383d11a0-16ca-4ad6-9ea0-b722792255da"
   },
   "outputs": [
    {
     "data": {
      "text/plain": [
       "Text(0, 0.5, '$l(beta_i)-l(beta_{i+1})$')"
      ]
     },
     "execution_count": 14,
     "metadata": {},
     "output_type": "execute_result"
    },
    {
     "data": {
      "image/png": "[encoded data removed]",
      "text/plain": [
       "<Figure size 432x288 with 1 Axes>"
      ]
     },
     "metadata": {
      "needs_background": "light"
     },
     "output_type": "display_data"
    }
   ],
   "source": [
    "plt.plot(losses ,'b')\n",
    "plt.title('Loss difference between steps')\n",
    "plt.xlabel('iteration')\n",
    "plt.ylabel('$l(beta_i)-l(beta_{i+1})$')\n",
    "\n",
    "#This algorithm takes longer to find the minimum and stop\n",
    "#The difference is at first large, but gets smaller with every step\n",
    "#In the end, it gets very close to 0 and finishes\n",
    "#As this algorithm takes longer to converge, I took a larger eps to obtain an answer within 1000 iterations"
   ]
  },
  {
   "cell_type": "code",
   "execution_count": 15,
   "metadata": {
    "colab": {
     "base_uri": "https://localhost:8080/",
     "height": 313
    },
    "id": "h6anKQnyi_4w",
    "outputId": "5b739b8c-d592-4205-e005-89676fc65464"
   },
   "outputs": [
    {
     "data": {
      "text/plain": [
       "Text(0, 0.5, 'Log loss(beta)')"
      ]
     },
     "execution_count": 15,
     "metadata": {},
     "output_type": "execute_result"
    },
    {
     "data": {
      "image/png": "[encoded data removed]",
      "text/plain": [
       "<Figure size 432x288 with 1 Axes>"
      ]
     },
     "metadata": {
      "needs_background": "light"
     },
     "output_type": "display_data"
    }
   ],
   "source": [
    "plt.plot(logloss, 'r')\n",
    "plt.title('Log loss at each step')\n",
    "plt.xlabel('iteration')\n",
    "plt.ylabel('Log loss(beta)')\n",
    "\n",
    "#The log loss in this case is diminishing at a slower rate than with the previous algorithm\n",
    "#However, it is being minimized at every iteration, which means the betas are beign improved\n",
    "#The convergence is not as good as the previous one possibly because of the larger eps"
   ]
  }
 ],
 "metadata": {
  "colab": {
   "name": "MachineLearningLab4.ipynb",
   "provenance": []
  },
  "kernelspec": {
   "display_name": "Python 3",
   "language": "python",
   "name": "python3"
  },
  "language_info": {
   "codemirror_mode": {
    "name": "ipython",
    "version": 3
   },
   "file_extension": ".py",
   "mimetype": "text/x-python",
   "name": "python",
   "nbconvert_exporter": "python",
   "pygments_lexer": "ipython3",
   "version": "3.8.8"
  }
 },
 "nbformat": 4,
 "nbformat_minor": 1
}
