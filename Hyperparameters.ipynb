{
 "cells": [
  {
   "cell_type": "code",
   "execution_count": 1,
   "metadata": {
    "id": "bak3HUDZgb0W"
   },
   "outputs": [],
   "source": [
    "import numpy as np\n",
    "import pandas as pd\n",
    "import random\n",
    "import matplotlib.pyplot as plt\n",
    "\n",
    "\n",
    "np.random.seed(3116)\n",
    "random.seed(3116)"
   ]
  },
  {
   "cell_type": "code",
   "execution_count": 2,
   "metadata": {
    "id": "A7huwl8yg1jL"
   },
   "outputs": [],
   "source": [
    "bank=pd.read_csv('bank.csv', delimiter=';')"
   ]
  },
  {
   "cell_type": "code",
   "execution_count": 3,
   "metadata": {
    "colab": {
     "base_uri": "https://localhost:8080/",
     "height": 226
    },
    "id": "Tb1ZuMQ0g8pX",
    "outputId": "55155166-7acd-4536-8d05-4b8ad0b17317"
   },
   "outputs": [
    {
     "data": {
      "text/html": [
       "<div>\n",
       "<style scoped>\n",
       "    .dataframe tbody tr th:only-of-type {\n",
       "        vertical-align: middle;\n",
       "    }\n",
       "\n",
       "    .dataframe tbody tr th {\n",
       "        vertical-align: top;\n",
       "    }\n",
       "\n",
       "    .dataframe thead th {\n",
       "        text-align: right;\n",
       "    }\n",
       "</style>\n",
       "<table border=\"1\" class=\"dataframe\">\n",
       "  <thead>\n",
       "    <tr style=\"text-align: right;\">\n",
       "      <th></th>\n",
       "      <th>age</th>\n",
       "      <th>job</th>\n",
       "      <th>marital</th>\n",
       "      <th>education</th>\n",
       "      <th>default</th>\n",
       "      <th>balance</th>\n",
       "      <th>housing</th>\n",
       "      <th>loan</th>\n",
       "      <th>contact</th>\n",
       "      <th>day</th>\n",
       "      <th>month</th>\n",
       "      <th>duration</th>\n",
       "      <th>campaign</th>\n",
       "      <th>pdays</th>\n",
       "      <th>previous</th>\n",
       "      <th>poutcome</th>\n",
       "      <th>y</th>\n",
       "    </tr>\n",
       "  </thead>\n",
       "  <tbody>\n",
       "    <tr>\n",
       "      <th>0</th>\n",
       "      <td>30</td>\n",
       "      <td>unemployed</td>\n",
       "      <td>married</td>\n",
       "      <td>primary</td>\n",
       "      <td>no</td>\n",
       "      <td>1787</td>\n",
       "      <td>no</td>\n",
       "      <td>no</td>\n",
       "      <td>cellular</td>\n",
       "      <td>19</td>\n",
       "      <td>oct</td>\n",
       "      <td>79</td>\n",
       "      <td>1</td>\n",
       "      <td>-1</td>\n",
       "      <td>0</td>\n",
       "      <td>unknown</td>\n",
       "      <td>no</td>\n",
       "    </tr>\n",
       "    <tr>\n",
       "      <th>1</th>\n",
       "      <td>33</td>\n",
       "      <td>services</td>\n",
       "      <td>married</td>\n",
       "      <td>secondary</td>\n",
       "      <td>no</td>\n",
       "      <td>4789</td>\n",
       "      <td>yes</td>\n",
       "      <td>yes</td>\n",
       "      <td>cellular</td>\n",
       "      <td>11</td>\n",
       "      <td>may</td>\n",
       "      <td>220</td>\n",
       "      <td>1</td>\n",
       "      <td>339</td>\n",
       "      <td>4</td>\n",
       "      <td>failure</td>\n",
       "      <td>no</td>\n",
       "    </tr>\n",
       "    <tr>\n",
       "      <th>2</th>\n",
       "      <td>35</td>\n",
       "      <td>management</td>\n",
       "      <td>single</td>\n",
       "      <td>tertiary</td>\n",
       "      <td>no</td>\n",
       "      <td>1350</td>\n",
       "      <td>yes</td>\n",
       "      <td>no</td>\n",
       "      <td>cellular</td>\n",
       "      <td>16</td>\n",
       "      <td>apr</td>\n",
       "      <td>185</td>\n",
       "      <td>1</td>\n",
       "      <td>330</td>\n",
       "      <td>1</td>\n",
       "      <td>failure</td>\n",
       "      <td>no</td>\n",
       "    </tr>\n",
       "    <tr>\n",
       "      <th>3</th>\n",
       "      <td>30</td>\n",
       "      <td>management</td>\n",
       "      <td>married</td>\n",
       "      <td>tertiary</td>\n",
       "      <td>no</td>\n",
       "      <td>1476</td>\n",
       "      <td>yes</td>\n",
       "      <td>yes</td>\n",
       "      <td>unknown</td>\n",
       "      <td>3</td>\n",
       "      <td>jun</td>\n",
       "      <td>199</td>\n",
       "      <td>4</td>\n",
       "      <td>-1</td>\n",
       "      <td>0</td>\n",
       "      <td>unknown</td>\n",
       "      <td>no</td>\n",
       "    </tr>\n",
       "    <tr>\n",
       "      <th>4</th>\n",
       "      <td>59</td>\n",
       "      <td>blue-collar</td>\n",
       "      <td>married</td>\n",
       "      <td>secondary</td>\n",
       "      <td>no</td>\n",
       "      <td>0</td>\n",
       "      <td>yes</td>\n",
       "      <td>no</td>\n",
       "      <td>unknown</td>\n",
       "      <td>5</td>\n",
       "      <td>may</td>\n",
       "      <td>226</td>\n",
       "      <td>1</td>\n",
       "      <td>-1</td>\n",
       "      <td>0</td>\n",
       "      <td>unknown</td>\n",
       "      <td>no</td>\n",
       "    </tr>\n",
       "  </tbody>\n",
       "</table>\n",
       "</div>"
      ],
      "text/plain": [
       "   age          job  marital  education  ... pdays  previous poutcome   y\n",
       "0   30   unemployed  married    primary  ...    -1         0  unknown  no\n",
       "1   33     services  married  secondary  ...   339         4  failure  no\n",
       "2   35   management   single   tertiary  ...   330         1  failure  no\n",
       "3   30   management  married   tertiary  ...    -1         0  unknown  no\n",
       "4   59  blue-collar  married  secondary  ...    -1         0  unknown  no\n",
       "\n",
       "[5 rows x 17 columns]"
      ]
     },
     "execution_count": 3,
     "metadata": {},
     "output_type": "execute_result"
    }
   ],
   "source": [
    "bank.head()"
   ]
  },
  {
   "cell_type": "code",
   "execution_count": 4,
   "metadata": {
    "id": "vPcHY7hRhHuu"
   },
   "outputs": [],
   "source": [
    "#Convert any non-numeric values to numeric values.\n",
    "\n",
    "#Get dummies for variables with many unique values\n",
    "bank=pd.get_dummies(bank, columns=['job', 'education', 'poutcome'])\n",
    "\n",
    "#Turn into numbers data with other names\n",
    "bank['month']=bank['month'].replace(['jan', 'feb', 'mar', 'apr', 'may', 'jun', 'jul', 'aug', 'sep', 'oct', 'nov', 'dec'],[1,2,3,4,5,6,7,8,9,10,11,12])\n",
    "\n",
    "#Replace values by -1,0,1 for columns with 3 unique values\n",
    "bank['marital']=bank['marital'].replace(['married', 'single', 'divorced'],[-1,0,1])\n",
    "bank['contact']=bank['contact'].replace(['cellular', 'unknown', 'telephone'],[-1,0,1])\n",
    "\n",
    "#Replace values by 0,1 for columns with 2 unique values\n",
    "bank['default']=bank['default'].replace(['no', 'yes'],[0,1])\n",
    "bank['housing']=bank['housing'].replace(['no', 'yes'],[0,1])\n",
    "bank['loan']=bank['loan'].replace(['no', 'yes'],[0,1])\n",
    "bank['y']=bank['y'].replace(['no', 'yes'],[0,1])\n"
   ]
  },
  {
   "cell_type": "code",
   "execution_count": 5,
   "metadata": {
    "colab": {
     "base_uri": "https://localhost:8080/",
     "height": 243
    },
    "id": "Pg7j3j9_hm3l",
    "outputId": "cbae8bcd-7407-44fc-e7a2-294f063936e9"
   },
   "outputs": [
    {
     "data": {
      "text/html": [
       "<div>\n",
       "<style scoped>\n",
       "    .dataframe tbody tr th:only-of-type {\n",
       "        vertical-align: middle;\n",
       "    }\n",
       "\n",
       "    .dataframe tbody tr th {\n",
       "        vertical-align: top;\n",
       "    }\n",
       "\n",
       "    .dataframe thead th {\n",
       "        text-align: right;\n",
       "    }\n",
       "</style>\n",
       "<table border=\"1\" class=\"dataframe\">\n",
       "  <thead>\n",
       "    <tr style=\"text-align: right;\">\n",
       "      <th></th>\n",
       "      <th>age</th>\n",
       "      <th>marital</th>\n",
       "      <th>default</th>\n",
       "      <th>balance</th>\n",
       "      <th>housing</th>\n",
       "      <th>loan</th>\n",
       "      <th>contact</th>\n",
       "      <th>day</th>\n",
       "      <th>month</th>\n",
       "      <th>duration</th>\n",
       "      <th>campaign</th>\n",
       "      <th>pdays</th>\n",
       "      <th>previous</th>\n",
       "      <th>y</th>\n",
       "      <th>job_admin.</th>\n",
       "      <th>job_blue-collar</th>\n",
       "      <th>job_entrepreneur</th>\n",
       "      <th>job_housemaid</th>\n",
       "      <th>job_management</th>\n",
       "      <th>job_retired</th>\n",
       "      <th>job_self-employed</th>\n",
       "      <th>job_services</th>\n",
       "      <th>job_student</th>\n",
       "      <th>job_technician</th>\n",
       "      <th>job_unemployed</th>\n",
       "      <th>job_unknown</th>\n",
       "      <th>education_primary</th>\n",
       "      <th>education_secondary</th>\n",
       "      <th>education_tertiary</th>\n",
       "      <th>education_unknown</th>\n",
       "      <th>poutcome_failure</th>\n",
       "      <th>poutcome_other</th>\n",
       "      <th>poutcome_success</th>\n",
       "      <th>poutcome_unknown</th>\n",
       "    </tr>\n",
       "  </thead>\n",
       "  <tbody>\n",
       "    <tr>\n",
       "      <th>0</th>\n",
       "      <td>30</td>\n",
       "      <td>-1</td>\n",
       "      <td>0</td>\n",
       "      <td>1787</td>\n",
       "      <td>0</td>\n",
       "      <td>0</td>\n",
       "      <td>-1</td>\n",
       "      <td>19</td>\n",
       "      <td>10</td>\n",
       "      <td>79</td>\n",
       "      <td>1</td>\n",
       "      <td>-1</td>\n",
       "      <td>0</td>\n",
       "      <td>0</td>\n",
       "      <td>0</td>\n",
       "      <td>0</td>\n",
       "      <td>0</td>\n",
       "      <td>0</td>\n",
       "      <td>0</td>\n",
       "      <td>0</td>\n",
       "      <td>0</td>\n",
       "      <td>0</td>\n",
       "      <td>0</td>\n",
       "      <td>0</td>\n",
       "      <td>1</td>\n",
       "      <td>0</td>\n",
       "      <td>1</td>\n",
       "      <td>0</td>\n",
       "      <td>0</td>\n",
       "      <td>0</td>\n",
       "      <td>0</td>\n",
       "      <td>0</td>\n",
       "      <td>0</td>\n",
       "      <td>1</td>\n",
       "    </tr>\n",
       "    <tr>\n",
       "      <th>1</th>\n",
       "      <td>33</td>\n",
       "      <td>-1</td>\n",
       "      <td>0</td>\n",
       "      <td>4789</td>\n",
       "      <td>1</td>\n",
       "      <td>1</td>\n",
       "      <td>-1</td>\n",
       "      <td>11</td>\n",
       "      <td>5</td>\n",
       "      <td>220</td>\n",
       "      <td>1</td>\n",
       "      <td>339</td>\n",
       "      <td>4</td>\n",
       "      <td>0</td>\n",
       "      <td>0</td>\n",
       "      <td>0</td>\n",
       "      <td>0</td>\n",
       "      <td>0</td>\n",
       "      <td>0</td>\n",
       "      <td>0</td>\n",
       "      <td>0</td>\n",
       "      <td>1</td>\n",
       "      <td>0</td>\n",
       "      <td>0</td>\n",
       "      <td>0</td>\n",
       "      <td>0</td>\n",
       "      <td>0</td>\n",
       "      <td>1</td>\n",
       "      <td>0</td>\n",
       "      <td>0</td>\n",
       "      <td>1</td>\n",
       "      <td>0</td>\n",
       "      <td>0</td>\n",
       "      <td>0</td>\n",
       "    </tr>\n",
       "    <tr>\n",
       "      <th>2</th>\n",
       "      <td>35</td>\n",
       "      <td>0</td>\n",
       "      <td>0</td>\n",
       "      <td>1350</td>\n",
       "      <td>1</td>\n",
       "      <td>0</td>\n",
       "      <td>-1</td>\n",
       "      <td>16</td>\n",
       "      <td>4</td>\n",
       "      <td>185</td>\n",
       "      <td>1</td>\n",
       "      <td>330</td>\n",
       "      <td>1</td>\n",
       "      <td>0</td>\n",
       "      <td>0</td>\n",
       "      <td>0</td>\n",
       "      <td>0</td>\n",
       "      <td>0</td>\n",
       "      <td>1</td>\n",
       "      <td>0</td>\n",
       "      <td>0</td>\n",
       "      <td>0</td>\n",
       "      <td>0</td>\n",
       "      <td>0</td>\n",
       "      <td>0</td>\n",
       "      <td>0</td>\n",
       "      <td>0</td>\n",
       "      <td>0</td>\n",
       "      <td>1</td>\n",
       "      <td>0</td>\n",
       "      <td>1</td>\n",
       "      <td>0</td>\n",
       "      <td>0</td>\n",
       "      <td>0</td>\n",
       "    </tr>\n",
       "    <tr>\n",
       "      <th>3</th>\n",
       "      <td>30</td>\n",
       "      <td>-1</td>\n",
       "      <td>0</td>\n",
       "      <td>1476</td>\n",
       "      <td>1</td>\n",
       "      <td>1</td>\n",
       "      <td>0</td>\n",
       "      <td>3</td>\n",
       "      <td>6</td>\n",
       "      <td>199</td>\n",
       "      <td>4</td>\n",
       "      <td>-1</td>\n",
       "      <td>0</td>\n",
       "      <td>0</td>\n",
       "      <td>0</td>\n",
       "      <td>0</td>\n",
       "      <td>0</td>\n",
       "      <td>0</td>\n",
       "      <td>1</td>\n",
       "      <td>0</td>\n",
       "      <td>0</td>\n",
       "      <td>0</td>\n",
       "      <td>0</td>\n",
       "      <td>0</td>\n",
       "      <td>0</td>\n",
       "      <td>0</td>\n",
       "      <td>0</td>\n",
       "      <td>0</td>\n",
       "      <td>1</td>\n",
       "      <td>0</td>\n",
       "      <td>0</td>\n",
       "      <td>0</td>\n",
       "      <td>0</td>\n",
       "      <td>1</td>\n",
       "    </tr>\n",
       "    <tr>\n",
       "      <th>4</th>\n",
       "      <td>59</td>\n",
       "      <td>-1</td>\n",
       "      <td>0</td>\n",
       "      <td>0</td>\n",
       "      <td>1</td>\n",
       "      <td>0</td>\n",
       "      <td>0</td>\n",
       "      <td>5</td>\n",
       "      <td>5</td>\n",
       "      <td>226</td>\n",
       "      <td>1</td>\n",
       "      <td>-1</td>\n",
       "      <td>0</td>\n",
       "      <td>0</td>\n",
       "      <td>0</td>\n",
       "      <td>1</td>\n",
       "      <td>0</td>\n",
       "      <td>0</td>\n",
       "      <td>0</td>\n",
       "      <td>0</td>\n",
       "      <td>0</td>\n",
       "      <td>0</td>\n",
       "      <td>0</td>\n",
       "      <td>0</td>\n",
       "      <td>0</td>\n",
       "      <td>0</td>\n",
       "      <td>0</td>\n",
       "      <td>1</td>\n",
       "      <td>0</td>\n",
       "      <td>0</td>\n",
       "      <td>0</td>\n",
       "      <td>0</td>\n",
       "      <td>0</td>\n",
       "      <td>1</td>\n",
       "    </tr>\n",
       "  </tbody>\n",
       "</table>\n",
       "</div>"
      ],
      "text/plain": [
       "   age  marital  default  ...  poutcome_other  poutcome_success  poutcome_unknown\n",
       "0   30       -1        0  ...               0                 0                 1\n",
       "1   33       -1        0  ...               0                 0                 0\n",
       "2   35        0        0  ...               0                 0                 0\n",
       "3   30       -1        0  ...               0                 0                 1\n",
       "4   59       -1        0  ...               0                 0                 1\n",
       "\n",
       "[5 rows x 34 columns]"
      ]
     },
     "execution_count": 5,
     "metadata": {},
     "output_type": "execute_result"
    }
   ],
   "source": [
    "bank.head()"
   ]
  },
  {
   "cell_type": "code",
   "execution_count": 6,
   "metadata": {
    "id": "8tpzrDElkghn"
   },
   "outputs": [],
   "source": [
    "#Drop out the rows with missing values or NA.\n",
    "\n",
    "bank=bank.dropna()"
   ]
  },
  {
   "cell_type": "code",
   "execution_count": 7,
   "metadata": {
    "id": "1YWJC7glks6e"
   },
   "outputs": [],
   "source": [
    "#Split the data into a train/test splits according to the ratios 80%:20%.\n",
    "\n",
    "n=list(range(len(bank)))#Get indexes of bank\n",
    "random.shuffle(n) #Shuffle the order \n",
    "\n",
    "limit=round(len(n)/100*80)\n",
    "train=n[:limit] #Get first 80% indexes for training\n",
    "test=n[limit:] #Get 20% indexes left for testing\n",
    "\n",
    "bank_train=bank.iloc[train] #Distribute dataset\n",
    "bank_test=bank.iloc[test] #Distribute dataset"
   ]
  },
  {
   "cell_type": "code",
   "execution_count": 8,
   "metadata": {
    "id": "_CHvBT3Pk_ko"
   },
   "outputs": [],
   "source": [
    "#Normalize (Standardize) the data\n",
    "\n",
    "bank_train=(bank_train-bank_train.mean())/bank_train.std()\n",
    "bank_test=(bank_test-bank_train.mean())/bank_train.std()\n",
    "\n",
    "y_train=bank_train['y'].to_numpy()\n",
    "y_test=bank_test['y'].to_numpy()\n",
    "\n",
    "bank_train.drop('y',axis=1,inplace=True)\n",
    "bank_test.drop('y',axis=1,inplace=True)\n",
    "\n",
    "\n",
    "x_train=bank_train.to_numpy()\n",
    "x_test=bank_test.to_numpy()"
   ]
  },
  {
   "cell_type": "code",
   "execution_count": 9,
   "metadata": {
    "id": "LuUgm3X4oRBS"
   },
   "outputs": [],
   "source": [
    "#Implement logistic regression and mini-batch Gradient Ascent.\n",
    "\n",
    "def logistic_regression(x,beta):\n",
    "  return np.e**(x@beta)/(1+np.e**(x@beta))\n",
    "\n",
    "def log_likelihood(x,y,beta):\n",
    "  return y*np.log(logistic_regression(x,beta))-(1-y)*np.log(1-logistic_regression(x,beta))\n",
    "\n",
    "def log_likelihood_derivative(x,y,beta):\n",
    "  return x.T@(logistic_regression(x,beta)-y)\n",
    "\n",
    "def gradient_ascent(x,y,xtest,ytest,batchsize,imax,mu,eps):\n",
    "  beta=np.zeros(len(x[0])) #Initialize beta\n",
    "  process=[]\n",
    "  likelihood=[]\n",
    "  n=len(x)//batchsize\n",
    "\n",
    "  for i in range(imax):\n",
    "    #Create batches\n",
    "    for j in range(n+1):\n",
    "      xbatch=x[j*batchsize:(j+1)*batchsize,:] #Choose elements that should be in this batch for x\n",
    "      ybatch=y[j*batchsize:(j+1)*batchsize] #Choose elements that should be in this batch for y\n",
    "\n",
    "      #Calculate step with batch\n",
    "      nextstep=beta+mu*log_likelihood_derivative(xbatch,ybatch,beta) #Calculate next step\n",
    "      \n",
    "      next_mean=log_likelihood(x,y,nextstep).mean() #Get log likelihood for next step Deberia ser mayor\n",
    "      beta_mean=log_likelihood(x,y,beta).mean() #Get log likelihood for previous step\n",
    "\n",
    "      process.append(next_mean-beta_mean)\n",
    "      likelihood.append(next_mean)\n",
    "      beta=nextstep\n",
    "      \n",
    "    if next_mean-beta_mean<eps: #Compare difference to eps to check if algorithm should end\n",
    "      return nextstep, process, likelihood\n",
    "\n",
    "      \n",
    "  return 'No convergence', process, likelihood\n",
    "\n"
   ]
  },
  {
   "cell_type": "code",
   "execution_count": 10,
   "metadata": {
    "colab": {
     "base_uri": "https://localhost:8080/",
     "height": 320
    },
    "id": "4KVVlIaaccFl",
    "outputId": "5073cc72-dd13-427b-d3f5-e61cc4dc6518"
   },
   "outputs": [
    {
     "name": "stdout",
     "output_type": "stream",
     "text": [
      "Initial likelyhood on test set was 0.5459300802640311\n",
      "Resulting likelyhood on test set is -10.2482193859422\n"
     ]
    },
    {
     "data": {
      "text/plain": [
       "[<matplotlib.lines.Line2D at 0x7ff2f9e70e90>]"
      ]
     },
     "execution_count": 10,
     "metadata": {},
     "output_type": "execute_result"
    },
    {
     "data": {
      "image/png": "[encoded data removed]",
      "text/plain": [
       "<Figure size 432x288 with 1 Axes>"
      ]
     },
     "metadata": {
      "needs_background": "light"
     },
     "output_type": "display_data"
    }
   ],
   "source": [
    "a,b,c=gradient_ascent(x_train,y_train,x_test,y_test,20,1000,0.0001,0.0000001)\n",
    "\n",
    "print(f'Initial likelyhood on test set was {log_likelihood(x_test,y_test,np.zeros(len(x_test[0]))).mean()}')\n",
    "print(f'Resulting likelyhood on test set is {log_likelihood(x_test,y_test,a).mean()}')\n",
    "\n",
    "plt.plot(c) #Shows -log likelihood decreasing"
   ]
  },
  {
   "cell_type": "code",
   "execution_count": 17,
   "metadata": {
    "id": "-AC__2yah2bp"
   },
   "outputs": [],
   "source": [
    "#Keep the hyperparameters of learning rate and batch size fixed (good guesses) and iteratively do backward selection keeping track of the AIC metric.\n",
    "\n",
    "#Implement logistic regression and mini-batch Gradient Ascent.\n",
    "\n",
    "def logistic_regression(x,beta):\n",
    "  return np.e**(x@beta)/(1+np.e**(x@beta))\n",
    "\n",
    "def log_likelihood(x,y,beta):\n",
    "  return -y*np.log(logistic_regression(x,beta))-(1-y)*np.log(1-logistic_regression(x,beta))\n",
    "\n",
    "def log_likelihood_derivative(x,y,beta):\n",
    "  return x.T@(y-np.e**(x@beta)/(1+np.e**(x@beta)))\n",
    "\n",
    "def gradient_ascent(x,y,xtest,ytest,batchsize,imax,mu,eps):\n",
    "  beta=np.zeros(len(x[0])) #Initialize beta\n",
    "  process=[]\n",
    "  likelihood=[]\n",
    "  n=len(x)//batchsize\n",
    "  \n",
    "  for i in range(imax):\n",
    "    #Create batches\n",
    "    for j in range(n+1):\n",
    "      xbatch=x[j*batchsize:(j+1)*batchsize,:] #Choose elements that should be in this batch for x\n",
    "      ybatch=y[j*batchsize:(j+1)*batchsize] #Choose elements that should be in this batch for y\n",
    "\n",
    "      #Calculate step with batch\n",
    "      nextstep=beta+mu*log_likelihood_derivative(xbatch,ybatch,beta) #Calculate next step\n",
    "      \n",
    "      next_mean=log_likelihood(x,y,nextstep).mean() #Get log likelihood for next step Deberia ser mayor\n",
    "      beta_mean=log_likelihood(x,y,beta).mean() #Get log likelihood for previous step\n",
    "\n",
    "      process.append(next_mean-beta_mean)\n",
    "      likelihood.append(next_mean)\n",
    "      beta=nextstep\n",
    "      \n",
    "    if next_mean-beta_mean<eps: #Compare difference to eps to check if algorithm should end\n",
    "      return nextstep, process, likelihood\n",
    "\n",
    "      \n",
    "  return 'No convergence', process, likelihood\n",
    "\n",
    "\n",
    "def AIC(x,y,beta,p):\n",
    "  return -2*np.log(log_likelihood(x,y,beta))+2*p\n",
    "\n",
    "#Adapt to logistic regression\n",
    "def backwardsearch(xtrain,ytrain,xtest,ytest):\n",
    "  vused=[x for x in range(len(xtrain[0]))]\n",
    "  vused=np.array(vused)\n",
    "  improvement=True\n",
    "  coefs1=0\n",
    "  coefs2=0\n",
    "  while improvement:\n",
    "    bestgain=0\n",
    "    for v in vused:\n",
    "      #Choose variables\n",
    "      idx=np.where(vused==v)\n",
    "      vusednow=np.delete(vused,idx)\n",
    "      trainwithout=xtrain[:,vusednow.astype(int)]\n",
    "      testwithout=xtest[:,vusednow.astype(int)]\n",
    "\n",
    "      coefs1,b,c=gradient_ascent(xtrain[:,vusednow.astype(int)],ytrain,xtest[:,vusednow.astype(int)],ytest,20,1000,0.00001,0.00001) \n",
    "      eval1=AIC(xtest[:,vusednow.astype(int)],ytest,coefs1,len(xtest[:,vusednow.astype(int)][0]))\n",
    "      eval1=eval1[np.isfinite(eval1)].mean() #Minimize, should be smaller\n",
    "\n",
    "      coefs2,b,c=gradient_ascent(xtrain[:,vused.astype(int)],ytrain,xtest[:,vused.astype(int)],ytest,20,1000,0.00001,0.00001)\n",
    "      eval2=AIC(xtest[:,vused.astype(int)],ytest,coefs2,len(xtest[:,vused.astype(int)][0]))\n",
    "      eval2=eval2[np.isfinite(eval2)].mean()\n",
    "\n",
    "      #I'm possibly evaluating the wrong data\n",
    "\n",
    "      evaltrain=AIC(xtrain[:,vused.astype(int)],ytrain,coefs2,len(xtrain[:,vused.astype(int)][0])).mean()\n",
    "      gain=eval2-eval1\n",
    "      if gain>bestgain:\n",
    "        bestgain=gain\n",
    "        bestv=v\n",
    "    improvement=bestgain>0\n",
    "    if improvement:\n",
    "      idx=np.where(vused==bestv)\n",
    "      vused=np.delete(vused,idx)\n",
    "    print(f'The variables used are {vused}')\n",
    "    print(f'The loss on training set is {evaltrain}')\n",
    "    print(f'The loss on test set is {eval2}')\n",
    "    print('----------------------------------------------') #Trouble on next iteration\n",
    "  return vused"
   ]
  },
  {
   "cell_type": "code",
   "execution_count": 18,
   "metadata": {
    "colab": {
     "base_uri": "https://localhost:8080/"
    },
    "id": "VYV-MPFkqnuj",
    "outputId": "defb609f-2e65-480a-80ca-1d0286bbc205"
   },
   "outputs": [
    {
     "name": "stdout",
     "output_type": "stream",
     "text": [
      "The variables used are [ 0  1  2  3  4  5  6  8  9 10 11 12 13 14 15 16 17 18 19 20 21 22 23 24\n",
      " 25 26 27 28 29 30 31 32]\n",
      "The loss on training set is 66.77503742642662\n",
      "The loss on test set is 65.68037449775487\n",
      "----------------------------------------------\n",
      "The variables used are [ 0  1  2  3  4  5  6  8  9 11 12 13 14 15 16 17 18 19 20 21 22 23 24 25\n",
      " 26 27 28 29 30 31 32]\n",
      "The loss on training set is 64.77498526350045\n",
      "The loss on test set is 63.67659605205536\n",
      "----------------------------------------------\n",
      "The variables used are [ 0  1  2  3  4  5  6  8  9 11 12 13 14 15 16 17 18 19 20 21 22 23 24 25\n",
      " 26 27 28 29 30 31]\n",
      "The loss on training set is 62.77450939674016\n",
      "The loss on test set is 61.67405889016375\n",
      "----------------------------------------------\n",
      "The variables used are [ 0  1  2  3  5  6  8  9 11 12 13 14 15 16 17 18 19 20 21 22 23 24 25 26\n",
      " 27 28 29 30 31]\n",
      "The loss on training set is 60.770823905101274\n",
      "The loss on test set is 59.671853954402465\n",
      "----------------------------------------------\n",
      "The variables used are [ 0  1  2  3  5  6  8  9 11 12 13 14 15 16 17 18 19 20 21 22 23 24 25 26\n",
      " 27 28 29 30]\n",
      "The loss on training set is 58.76930470345851\n",
      "The loss on test set is 57.67081116350347\n",
      "----------------------------------------------\n",
      "The variables used are [ 0  2  3  5  6  8  9 11 12 13 14 15 16 17 18 19 20 21 22 23 24 25 26 27\n",
      " 28 29 30]\n",
      "The loss on training set is 56.758672702834495\n",
      "The loss on test set is 55.67043209237005\n",
      "----------------------------------------------\n",
      "The variables used are [ 0  2  3  5  6  8  9 11 12 13 15 16 17 18 19 20 21 22 23 24 25 26 27 28\n",
      " 29 30]\n",
      "The loss on training set is 54.7582843261877\n",
      "The loss on test set is 53.670054470028745\n",
      "----------------------------------------------\n",
      "The variables used are [ 0  2  3  5  6  8  9 11 13 15 16 17 18 19 20 21 22 23 24 25 26 27 28 29\n",
      " 30]\n",
      "The loss on training set is 52.75781984253369\n",
      "The loss on test set is 51.669699056089236\n",
      "----------------------------------------------\n",
      "The variables used are [ 0  2  3  6  8  9 11 13 15 16 17 18 19 20 21 22 23 24 25 26 27 28 29 30]\n",
      "The loss on training set is 50.7562311321718\n",
      "The loss on test set is 49.669380289881516\n",
      "----------------------------------------------\n",
      "The variables used are [ 0  2  3  6  8  9 11 13 15 16 17 19 20 21 22 23 24 25 26 27 28 29 30]\n",
      "The loss on training set is 48.755543213541166\n",
      "The loss on test set is 47.669077483683644\n",
      "----------------------------------------------\n",
      "The variables used are [ 0  2  3  6  8  9 11 13 15 16 17 19 20 21 22 23 24 25 27 28 29 30]\n",
      "The loss on training set is 46.75456482060792\n",
      "The loss on test set is 45.6688725798722\n",
      "----------------------------------------------\n",
      "The variables used are [ 0  2  3  6  8  9 11 13 15 16 17 19 21 22 23 24 25 27 28 29 30]\n",
      "The loss on training set is 44.75452592167305\n",
      "The loss on test set is 43.66871322934234\n",
      "----------------------------------------------\n",
      "The variables used are [ 0  2  3  6  8  9 11 13 15 16 17 19 21 22 23 24 27 28 29 30]\n",
      "The loss on training set is 42.75442718084005\n",
      "The loss on test set is 41.6686529062019\n",
      "----------------------------------------------\n",
      "The variables used are [ 0  2  3  6  8  9 11 13 15 16 17 19 21 23 24 27 28 29 30]\n",
      "The loss on training set is 40.75436726585602\n",
      "The loss on test set is 39.66861115769947\n",
      "----------------------------------------------\n",
      "The variables used are [ 0  3  6  8  9 11 13 15 16 17 19 21 23 24 27 28 29 30]\n",
      "The loss on training set is 38.754342786830975\n",
      "The loss on test set is 37.668581511873086\n",
      "----------------------------------------------\n",
      "The variables used are [ 0  3  6  8  9 11 13 15 16 17 19 21 23 24 27 28 29]\n",
      "The loss on training set is 36.75434168124583\n",
      "The loss on test set is 35.66856091022446\n",
      "----------------------------------------------\n",
      "The variables used are [ 0  3  6  8  9 11 13 15 17 19 21 23 24 27 28 29]\n",
      "The loss on training set is 34.75399417387741\n",
      "The loss on test set is 33.66854643206925\n",
      "----------------------------------------------\n",
      "The variables used are [ 0  3  6  8  9 11 13 15 17 19 21 24 27 28 29]\n",
      "The loss on training set is 32.75399305968926\n",
      "The loss on test set is 31.668535102686846\n",
      "----------------------------------------------\n",
      "The variables used are [ 0  3  6  8  9 11 13 17 19 21 24 27 28 29]\n",
      "The loss on training set is 30.753992751291282\n",
      "The loss on test set is 29.668525948369734\n",
      "----------------------------------------------\n",
      "The variables used are [ 0  3  6  8  9 11 13 17 19 21 24 27 28]\n",
      "The loss on training set is 28.753976322487155\n",
      "The loss on test set is 27.668520769311613\n",
      "----------------------------------------------\n",
      "The variables used are [ 0  3  6  8  9 11 17 19 21 24 27 28]\n",
      "The loss on training set is 26.753969404274734\n",
      "The loss on test set is 25.66851583594027\n",
      "----------------------------------------------\n",
      "The variables used are [ 0  3  6  8  9 11 17 19 21 27 28]\n",
      "The loss on training set is 24.75396745079664\n",
      "The loss on test set is 23.66851489971646\n",
      "----------------------------------------------\n",
      "The variables used are [ 0  3  6  8  9 11 17 19 21 27]\n",
      "The loss on training set is 22.75391396010377\n",
      "The loss on test set is 21.668516335132313\n",
      "----------------------------------------------\n",
      "The variables used are [ 0  3  6  8  9 11 17 21 27]\n",
      "The loss on training set is 20.753913837600216\n",
      "The loss on test set is 19.66851954458773\n",
      "----------------------------------------------\n",
      "The variables used are [ 0  3  6  8  9 11 17 21]\n",
      "The loss on training set is 18.75391375095158\n",
      "The loss on test set is 17.668523566931224\n",
      "----------------------------------------------\n",
      "The variables used are [ 0  3  6  8  9 11 21]\n",
      "The loss on training set is 16.7537616674004\n",
      "The loss on test set is 15.668527823492017\n",
      "----------------------------------------------\n",
      "The variables used are [ 0  3  6  8  9 11]\n",
      "The loss on training set is 14.75367326907694\n",
      "The loss on test set is 13.668538831030475\n",
      "----------------------------------------------\n",
      "The variables used are [ 0  3  8  9 11]\n",
      "The loss on training set is 12.753213644522777\n",
      "The loss on test set is 11.668599347724266\n",
      "----------------------------------------------\n"
     ]
    },
    {
     "name": "stderr",
     "output_type": "stream",
     "text": [
      "/usr/local/lib/python3.7/dist-packages/ipykernel_launcher.py:6: RuntimeWarning: overflow encountered in power\n",
      "  \n",
      "/usr/local/lib/python3.7/dist-packages/ipykernel_launcher.py:6: RuntimeWarning: invalid value encountered in true_divide\n",
      "  \n",
      "/usr/local/lib/python3.7/dist-packages/ipykernel_launcher.py:9: RuntimeWarning: divide by zero encountered in log\n",
      "  if __name__ == '__main__':\n"
     ]
    },
    {
     "name": "stdout",
     "output_type": "stream",
     "text": [
      "The variables used are [0 3 8 9]\n",
      "The loss on training set is 10.752460452502712\n",
      "The loss on test set is 9.669042458016825\n",
      "----------------------------------------------\n"
     ]
    },
    {
     "name": "stderr",
     "output_type": "stream",
     "text": [
      "/usr/local/lib/python3.7/dist-packages/ipykernel_launcher.py:44: RuntimeWarning: invalid value encountered in log\n"
     ]
    },
    {
     "name": "stdout",
     "output_type": "stream",
     "text": [
      "The variables used are [0 3 9]\n",
      "The loss on training set is nan\n",
      "The loss on test set is 1.040824634671342\n",
      "----------------------------------------------\n",
      "The variables used are [3 9]\n",
      "The loss on training set is nan\n",
      "The loss on test set is -0.9455435025795715\n",
      "----------------------------------------------\n",
      "The variables used are [9]\n",
      "The loss on training set is nan\n",
      "The loss on test set is -2.8107368295750503\n",
      "----------------------------------------------\n",
      "The variables used are [9]\n",
      "The loss on training set is nan\n",
      "The loss on test set is -4.4030165097958305\n",
      "----------------------------------------------\n"
     ]
    }
   ],
   "source": [
    "#Report the final error on Test set\n",
    "\n",
    "vs=backwardsearch(x_train,y_train,x_test,y_test)"
   ]
  },
  {
   "cell_type": "code",
   "execution_count": 19,
   "metadata": {
    "id": "dWw5nAgQm2J9"
   },
   "outputs": [],
   "source": [
    "#Pick a range of α0 and λ defined on grid. You can choose fixed batchsize = 50.\n",
    "batchsize=50\n",
    "alpha=10**np.linspace(-10,0,20)\n",
    "lambdas=10**np.linspace(-10,0,20)\n",
    "\n",
    "aa, ll=np.meshgrid(alpha,lambdas)"
   ]
  },
  {
   "cell_type": "code",
   "execution_count": 20,
   "metadata": {
    "id": "4QSr7UGBsJCM"
   },
   "outputs": [],
   "source": [
    "#Implement k-fold cross-validation protocol for grid search. \n",
    "#For each combination of α0 and λ you will perform k-fold cross-validation. Let k = 5 in this case.\n",
    "\n",
    "def class_accuracy(x,y,beta): #Create accuracy function for evaluation\n",
    "  yhat=1/(1+np.e**(-x@beta))\n",
    "  corrects=0\n",
    "  for i in range(len(y)):\n",
    "    if y[i]<0.5 and yhat[i]<0.5:\n",
    "      corrects=corrects+1\n",
    "    elif y[i]>0.5 and yhat[i]>0.5:\n",
    "      corrects=corrects+1\n",
    "\n",
    "  return corrects/len(y)\n",
    "\n",
    "def l(x,y,beta,lamb):\n",
    "  return y@(x@beta)-np.log(1+np.e**(x@beta))+lamb*(beta.T@beta)\n",
    "\n",
    "def gridsearch(x,y,tmax,eps,k):\n",
    "  bestloss=[]\n",
    "  bestlambda=[]\n",
    "  bestalpha=[]\n",
    "  bestbeta=[]\n",
    "  batchsize=len(x)//k\n",
    "  beta = np.zeros(len(x[0]))\n",
    "  accuracy=[]\n",
    "  for i in range(len(aa)):\n",
    "    for j in range(len(aa[0])):\n",
    "      alpha=aa[i,j] #Get alpha\n",
    "      lamb=ll[i,j] #Get lambda\n",
    "\n",
    "      loss=l(x,y,beta,lamb).mean()\n",
    "      for h in range(k):\n",
    "        xbatch=x[h*batchsize:(h+1)*batchsize,:] #Choose elements that should be in this batch for x\n",
    "        ybatch=y[h*batchsize:(h+1)*batchsize] #Choose elements that should be in this batch for y\n",
    "\n",
    "        for t in range(tmax):\n",
    "          yhat=1/(1+np.e**(-xbatch@beta))\n",
    "          beta=beta+alpha*(1/len(xbatch)*xbatch.T@(ybatch-yhat))-2*lamb*(beta.T@beta) #Get next step\n",
    "\n",
    "          loss_old=loss\n",
    "          loss=l(xbatch,ybatch,beta,lamb).mean() #Calculate loss\n",
    "\n",
    "        if loss-loss_old<eps: #Check if there is convergence\n",
    "          #Save variables\n",
    "          bestloss.append(loss)\n",
    "          bestlambda.append(lamb)\n",
    "          bestalpha.append(alpha)\n",
    "          accuracy.append(class_accuracy(x,y,beta))\n",
    "          break\n",
    "\n",
    "  return bestloss, bestlambda, bestalpha, accuracy\n",
    "\n"
   ]
  },
  {
   "cell_type": "code",
   "execution_count": 21,
   "metadata": {
    "colab": {
     "base_uri": "https://localhost:8080/"
    },
    "id": "gDIyYBYu_i2W",
    "outputId": "3669291c-d311-4f3d-8a78-aec7be4774a7"
   },
   "outputs": [
    {
     "name": "stderr",
     "output_type": "stream",
     "text": [
      "/usr/local/lib/python3.7/dist-packages/ipykernel_launcher.py:16: RuntimeWarning: overflow encountered in power\n",
      "  app.launch_new_instance()\n",
      "/usr/local/lib/python3.7/dist-packages/ipykernel_launcher.py:43: RuntimeWarning: invalid value encountered in double_scalars\n",
      "/usr/local/lib/python3.7/dist-packages/ipykernel_launcher.py:37: RuntimeWarning: overflow encountered in power\n",
      "/usr/local/lib/python3.7/dist-packages/ipykernel_launcher.py:16: RuntimeWarning: overflow encountered in matmul\n",
      "  app.launch_new_instance()\n",
      "/usr/local/lib/python3.7/dist-packages/ipykernel_launcher.py:16: RuntimeWarning: invalid value encountered in add\n",
      "  app.launch_new_instance()\n",
      "/usr/local/lib/python3.7/dist-packages/ipykernel_launcher.py:38: RuntimeWarning: overflow encountered in matmul\n",
      "/usr/local/lib/python3.7/dist-packages/ipykernel_launcher.py:16: RuntimeWarning: invalid value encountered in matmul\n",
      "  app.launch_new_instance()\n",
      "/usr/local/lib/python3.7/dist-packages/ipykernel_launcher.py:37: RuntimeWarning: invalid value encountered in matmul\n"
     ]
    }
   ],
   "source": [
    "loss, lamb, alpha, accuracy=gridsearch(x_train,y_train,500,0.01,5)"
   ]
  },
  {
   "cell_type": "code",
   "execution_count": 22,
   "metadata": {
    "colab": {
     "base_uri": "https://localhost:8080/"
    },
    "id": "d-2d5RqB_kgS",
    "outputId": "f58ee0b3-8b4d-4d28-d009-7cc412f6ee68"
   },
   "outputs": [
    {
     "name": "stdout",
     "output_type": "stream",
     "text": [
      "best lambda is [1.e-10]\n",
      "best alpha is [1.e-10]\n",
      "best accuracy is [0.71633951]\n"
     ]
    }
   ],
   "source": [
    "#Get best hyperparameters\n",
    "loss, lamb, alpha, accuracy=np.array(loss), np.array(lamb), np.array(alpha), np.array(accuracy)\n",
    "bestlamba=lamb[loss==loss.min()]\n",
    "bestalpha=alpha[loss==loss.min()]\n",
    "bestaccuracy=accuracy[loss==loss.min()]\n",
    "\n",
    "\n",
    "print('best lambda is '+str(bestlamba))\n",
    "print('best alpha is '+str(bestalpha))\n",
    "print('best accuracy is '+str(bestaccuracy))"
   ]
  },
  {
   "cell_type": "code",
   "execution_count": 23,
   "metadata": {
    "colab": {
     "base_uri": "https://localhost:8080/",
     "height": 323
    },
    "id": "zD3esbn2_n68",
    "outputId": "833d3d12-9fa9-425f-e6ec-76aa8b6fb591"
   },
   "outputs": [
    {
     "name": "stderr",
     "output_type": "stream",
     "text": [
      "/usr/local/lib/python3.7/dist-packages/ipykernel_launcher.py:4: UserWarning: Attempting to set identical left == right == 1e-10 results in singular transformations; automatically expanding.\n",
      "  after removing the cwd from sys.path.\n"
     ]
    },
    {
     "data": {
      "text/plain": [
       "Text(0.5, 0, 'accuracy')"
      ]
     },
     "execution_count": 23,
     "metadata": {},
     "output_type": "execute_result"
    },
    {
     "data": {
      "image/png": "[encoded data removed]",
      "text/plain": [
       "<Figure size 432x288 with 1 Axes>"
      ]
     },
     "metadata": {
      "needs_background": "light"
     },
     "output_type": "display_data"
    }
   ],
   "source": [
    "#Plot accuracies\n",
    "ax = plt.axes(projection='3d')\n",
    "ax.scatter(lamb, alpha, accuracy, c=accuracy, cmap='viridis', linewidth=0.5)\n",
    "ax.set_xlim([lamb.min(), lamb.max()])\n",
    "ax.set_ylim([alpha.min(), alpha.max()])\n",
    "ax.set_zlim([accuracy.min(), accuracy.max()])\n",
    "\n",
    "ax.set_xlabel('lambda')\n",
    "ax.set_ylabel('alpha')\n",
    "ax.set_zlabel('accuracy')"
   ]
  },
  {
   "cell_type": "code",
   "execution_count": 24,
   "metadata": {
    "colab": {
     "base_uri": "https://localhost:8080/",
     "height": 323
    },
    "id": "Hm4zt8K3_n-c",
    "outputId": "0abc1b6e-1e20-4006-e825-a0495bf5eabf"
   },
   "outputs": [
    {
     "name": "stderr",
     "output_type": "stream",
     "text": [
      "/usr/local/lib/python3.7/dist-packages/ipykernel_launcher.py:4: UserWarning: Attempting to set identical left == right == 1e-10 results in singular transformations; automatically expanding.\n",
      "  after removing the cwd from sys.path.\n"
     ]
    },
    {
     "data": {
      "text/plain": [
       "Text(0.5, 0, 'loss')"
      ]
     },
     "execution_count": 24,
     "metadata": {},
     "output_type": "execute_result"
    },
    {
     "data": {
      "image/png": "[encoded data removed]",
      "text/plain": [
       "<Figure size 432x288 with 1 Axes>"
      ]
     },
     "metadata": {
      "needs_background": "light"
     },
     "output_type": "display_data"
    }
   ],
   "source": [
    "#Plot losses\n",
    "ax = plt.axes(projection='3d')\n",
    "ax.scatter(lamb, alpha, loss, c=loss, cmap='viridis', linewidth=0.5)\n",
    "ax.set_xlim([lamb.min(), lamb.max()])\n",
    "ax.set_ylim([alpha.min(), alpha.max()])\n",
    "ax.set_zlim([loss.min(), loss.max()])\n",
    "\n",
    "ax.set_xlabel('lambda')\n",
    "ax.set_ylabel('alpha')\n",
    "ax.set_zlabel('loss')"
   ]
  }
 ],
 "metadata": {
  "colab": {
   "name": "MachineLearningLab5.ipynb",
   "provenance": []
  },
  "kernelspec": {
   "display_name": "Python 3",
   "language": "python",
   "name": "python3"
  },
  "language_info": {
   "codemirror_mode": {
    "name": "ipython",
    "version": 3
   },
   "file_extension": ".py",
   "mimetype": "text/x-python",
   "name": "python",
   "nbconvert_exporter": "python",
   "pygments_lexer": "ipython3",
   "version": "3.8.8"
  }
 },
 "nbformat": 4,
 "nbformat_minor": 1
}
