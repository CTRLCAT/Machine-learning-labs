{
 "cells": [
  {
   "cell_type": "code",
   "execution_count": 1,
   "metadata": {
    "id": "LiK8u4sSVVDA"
   },
   "outputs": [],
   "source": [
    "from sklearn.datasets import fetch_20newsgroups\n",
    "import nltk\n",
    "from nltk.corpus import stopwords\n",
    "from nltk.tokenize import word_tokenize\n",
    "from nltk.tokenize import RegexpTokenizer\n",
    "import random\n",
    "import numpy as np\n",
    "import seaborn as sn\n",
    "import pandas as pd\n",
    "\n",
    "random.seed(3116)"
   ]
  },
  {
   "cell_type": "markdown",
   "metadata": {
    "id": "El6iOhjhfUaj"
   },
   "source": [
    "Exercise 0: Preprocessing Text Data"
   ]
  },
  {
   "cell_type": "code",
   "execution_count": 2,
   "metadata": {
    "colab": {
     "base_uri": "https://localhost:8080/"
    },
    "id": "wAVjHHueaB_H",
    "outputId": "de040b62-4d96-461f-cb53-e594eda952df"
   },
   "outputs": [
    {
     "name": "stdout",
     "output_type": "stream",
     "text": [
      "[nltk_data] Downloading package stopwords to /root/nltk_data...\n",
      "[nltk_data]   Package stopwords is already up-to-date!\n",
      "[nltk_data] Downloading package punkt to /root/nltk_data...\n",
      "[nltk_data]   Package punkt is already up-to-date!\n"
     ]
    },
    {
     "data": {
      "text/plain": [
       "True"
      ]
     },
     "execution_count": 2,
     "metadata": {},
     "output_type": "execute_result"
    }
   ],
   "source": [
    "#Download stopwords and puctuation\n",
    "nltk.download('stopwords')\n",
    "nltk.download('punkt')"
   ]
  },
  {
   "cell_type": "code",
   "execution_count": 3,
   "metadata": {
    "id": "ANZMDkUnVhpB"
   },
   "outputs": [],
   "source": [
    "#Get data from specific categories\n",
    "cats = ['sci.med', 'comp.graphics']\n",
    "newsgroups = fetch_20newsgroups(categories=cats)\n",
    "data=newsgroups['data']"
   ]
  },
  {
   "cell_type": "code",
   "execution_count": 4,
   "metadata": {
    "id": "mlNrwHNlU0RC"
   },
   "outputs": [],
   "source": [
    "#Remove stop words\n",
    "stop_words = set(stopwords.words('english'))\n",
    "\n",
    "map_stopwords = map(word_tokenize, data)\n",
    "clean_data = list(map_stopwords)\n",
    "\n",
    "map_join = map(' '.join, clean_data)\n",
    "clean_data = list(map_join)"
   ]
  },
  {
   "cell_type": "code",
   "execution_count": 5,
   "metadata": {
    "id": "b6Qm-gSkoM1D"
   },
   "outputs": [],
   "source": [
    "#Remove punctuation\n",
    "tokenizer = RegexpTokenizer(r'\\w+')\n",
    "\n",
    "map_puntuation = map(tokenizer.tokenize, clean_data)\n",
    "clean_data = list(map_puntuation)\n",
    "\n",
    "map_join = map(' '.join, clean_data)\n",
    "clean_data = list(map_join)"
   ]
  },
  {
   "cell_type": "code",
   "execution_count": 6,
   "metadata": {
    "id": "8AQZDNF9oM6z"
   },
   "outputs": [],
   "source": [
    "#Extract bags of words\n",
    "from sklearn.feature_extraction.text import CountVectorizer, TfidfVectorizer"
   ]
  },
  {
   "cell_type": "code",
   "execution_count": 7,
   "metadata": {
    "id": "lNy5TOQkpHTz"
   },
   "outputs": [],
   "source": [
    "count_vect = CountVectorizer()\n",
    "counts = count_vect.fit_transform(clean_data)"
   ]
  },
  {
   "cell_type": "code",
   "execution_count": 8,
   "metadata": {
    "id": "we2ktkafZN0U"
   },
   "outputs": [],
   "source": [
    "#TF-IDF feature representation\n",
    "from sklearn.feature_extraction.text import TfidfTransformer"
   ]
  },
  {
   "cell_type": "code",
   "execution_count": 9,
   "metadata": {
    "id": "7Cn3Nvm6bD1J"
   },
   "outputs": [],
   "source": [
    "tfidf_transformer = TfidfTransformer()\n",
    "data_tfidf = tfidf_transformer.fit_transform(counts)"
   ]
  },
  {
   "cell_type": "code",
   "execution_count": 10,
   "metadata": {
    "id": "ggipOlXRgs0Q"
   },
   "outputs": [],
   "source": [
    "#Split data into train, validation and test\n",
    "order=np.arange(len(data))\n",
    "random.shuffle(order)\n",
    "\n",
    "y_train=newsgroups['target'][order[:round(len(order)*0.8)]]\n",
    "y_valid=newsgroups['target'][order[round(len(order)*0.8):round(len(order)*0.9)]]\n",
    "y_test=newsgroups['target'][order[round(len(order)*0.9):]]\n",
    "\n",
    "bag_train=counts[order[:round(len(order)*0.8)]]\n",
    "bag_valid=counts[order[round(len(order)*0.8):round(len(order)*0.9)]]\n",
    "bag_test=counts[order[round(len(order)*0.9):]]\n",
    "                \n",
    "tfidf_train=data_tfidf[order[:round(len(order)*0.8)]]\n",
    "tfidf_valid=data_tfidf[order[round(len(order)*0.8):round(len(order)*0.9)]]\n",
    "tfidf_test=data_tfidf[order[round(len(order)*0.9):]]"
   ]
  },
  {
   "cell_type": "markdown",
   "metadata": {
    "id": "g6czJRJmfYLd"
   },
   "source": [
    "Exercise 1: Implementing Naive Bayes Classifier for Text Data "
   ]
  },
  {
   "cell_type": "code",
   "execution_count": 11,
   "metadata": {
    "id": "xGxeU2Q_Z2VC"
   },
   "outputs": [],
   "source": [
    "#Train and validate the Naive Bayes Classifier "
   ]
  },
  {
   "cell_type": "code",
   "execution_count": 12,
   "metadata": {
    "id": "s12MH1sAtPn-"
   },
   "outputs": [],
   "source": [
    "def train_naive_bayes(x_train, y_train, alpha):\n",
    "  n=x_train.shape[0]\n",
    "  probabilities=(x_train.sum(axis=0)+alpha) #Get probabilities for words\n",
    "  group_labels=np.unique(y_train) #Get group labels\n",
    "\n",
    "  probabilities_for_elements=[]\n",
    "  probability_of_group=[]\n",
    "\n",
    "  for group in group_labels:\n",
    "    group_probability=np.array(x_train[y_train==group].sum(axis=0)+alpha) #Probability of word in group\n",
    "    n_group=np.sum((y_train==group)*1) #Prior probability\n",
    "\n",
    "    #Store variables\n",
    "    probabilities_for_elements.append(group_probability/n_group)\n",
    "    probability_of_group.append(n_group/n)\n",
    "\n",
    "  return group_labels, probability_of_group, probabilities_for_elements"
   ]
  },
  {
   "cell_type": "code",
   "execution_count": 13,
   "metadata": {
    "id": "R5lvUnk8Cw2H"
   },
   "outputs": [],
   "source": [
    "def predict_naive_bayes(x, probability_of_groups, probability_of_elements):\n",
    "  results=probability_of_elements**np.array(bag_test.todense()) #Probabilitiess are elevated to the number of times they appear in x\n",
    "  probabilities_of_classification=[]\n",
    "  \n",
    "  for i in range(len(probability_of_groups)):\n",
    "    multiplication=np.prod(results[i],axis=1) #Multiply the probabilities for all elements\n",
    "    multiplication*=probability_of_groups[i] #Multiply by prior\n",
    "\n",
    "    probabilities_of_classification.append(multiplication) #Save probability\n",
    "\n",
    "  classification=np.argmax(probabilities_of_classification,axis=0) #Classify as highest probability\n",
    "  return classification"
   ]
  },
  {
   "cell_type": "code",
   "execution_count": 14,
   "metadata": {
    "id": "pD6kHvg8DKCA"
   },
   "outputs": [],
   "source": [
    "#Create confusion matrix\n",
    "def evaluate_classification(y,y_hat):\n",
    "  should_be_0_y=y[y==0]\n",
    "  should_be_0_y_hat=y_hat[y==0]\n",
    "  should_be_1_y=y[y==1]\n",
    "  should_be_1_y_hat=y_hat[y==1]\n",
    "  \n",
    "  p1=np.sum((should_be_0_y==should_be_0_y_hat)*1)\n",
    "  p2=np.sum((should_be_0_y!=should_be_0_y_hat)*1)\n",
    "  p3=np.sum((should_be_1_y==should_be_1_y_hat)*1)\n",
    "  p4=np.sum((should_be_1_y!=should_be_1_y_hat)*1)\n",
    "\n",
    "  return [[p1, p2],[p4, p3]]\n"
   ]
  },
  {
   "cell_type": "code",
   "execution_count": 15,
   "metadata": {
    "id": "x6lWwLzUWXpk"
   },
   "outputs": [],
   "source": [
    "#Calculate accuracy\n",
    "def accuracy(y,y_hat):\n",
    "  return np.sum((y==y_hat)*1)/len(y)"
   ]
  },
  {
   "cell_type": "code",
   "execution_count": 16,
   "metadata": {
    "colab": {
     "base_uri": "https://localhost:8080/"
    },
    "id": "q9_h3Ciru9ZF",
    "outputId": "56353a2a-d493-4c21-d3ab-b4b940bf858b"
   },
   "outputs": [
    {
     "name": "stdout",
     "output_type": "stream",
     "text": [
      "The accuracy for bag of words was 0.923728813559322\n"
     ]
    }
   ],
   "source": [
    "#Train, predict and evaluate bag of words\n",
    "g_bag, pg_bag, pe_bag=train_naive_bayes(bag_train, y_train, 0.01)\n",
    "predictions_bag=predict_naive_bayes(bag_test, pg_bag, pe_bag)\n",
    "cm_bag=evaluate_classification(y_test,predictions_bag)\n",
    "\n",
    "print(f'The accuracy for bag of words was {accuracy(predictions_bag,y_test)}')\n"
   ]
  },
  {
   "cell_type": "code",
   "execution_count": 17,
   "metadata": {
    "colab": {
     "base_uri": "https://localhost:8080/"
    },
    "id": "M1IINuurQxm_",
    "outputId": "7ff3d4e9-c916-4cec-ec28-4532001c2ed8"
   },
   "outputs": [
    {
     "name": "stdout",
     "output_type": "stream",
     "text": [
      "The accuracy for TF-IDF was 0.7033898305084746\n"
     ]
    }
   ],
   "source": [
    "#Train, predict and evaluate TF-IDF\n",
    "g_tfidf, pg_tfidf, pe_tfidf=train_naive_bayes(tfidf_train, y_train, 0.01)\n",
    "predictions_tfidf=predict_naive_bayes(tfidf_test, pg_tfidf, pe_tfidf)\n",
    "cm_tfidf=evaluate_classification(y_test,predictions_tfidf)\n",
    "\n",
    "print(f'The accuracy for TF-IDF was {accuracy(predictions_tfidf,y_test)}')"
   ]
  },
  {
   "cell_type": "code",
   "execution_count": 18,
   "metadata": {
    "colab": {
     "base_uri": "https://localhost:8080/",
     "height": 291
    },
    "id": "UNlX8bBxELhd",
    "outputId": "125eee96-da87-4b47-a224-9a98e17f77de"
   },
   "outputs": [
    {
     "data": {
      "text/plain": [
       "<matplotlib.axes._subplots.AxesSubplot at 0x7f657648b3d0>"
      ]
     },
     "execution_count": 18,
     "metadata": {},
     "output_type": "execute_result"
    },
    {
     "data": {
      "image/png": "[encoded data removed]",
      "text/plain": [
       "<Figure size 432x288 with 2 Axes>"
      ]
     },
     "metadata": {},
     "output_type": "display_data"
    }
   ],
   "source": [
    "#Plot confusion matrix for bag of words\n",
    "df_cm = pd.DataFrame(cm_bag, range(2), range(2))\n",
    "sn.set(font_scale=1.4) # for label size\n",
    "sn.heatmap(df_cm, annot=True, annot_kws={\"size\": 16}, cmap='YlGnBu') # font size"
   ]
  },
  {
   "cell_type": "code",
   "execution_count": 19,
   "metadata": {
    "colab": {
     "base_uri": "https://localhost:8080/",
     "height": 291
    },
    "id": "ZrV3o8w5EuV-",
    "outputId": "37db5c0d-13bf-4330-ed52-4ff238ac7938"
   },
   "outputs": [
    {
     "data": {
      "text/plain": [
       "<matplotlib.axes._subplots.AxesSubplot at 0x7f65764b5590>"
      ]
     },
     "execution_count": 19,
     "metadata": {},
     "output_type": "execute_result"
    },
    {
     "data": {
      "image/png": "[encoded data removed]",
      "text/plain": [
       "<Figure size 432x288 with 2 Axes>"
      ]
     },
     "metadata": {},
     "output_type": "display_data"
    }
   ],
   "source": [
    "#Plot confusion matrix for TF-IDF\n",
    "df_cm = pd.DataFrame(cm_tfidf, range(2), range(2))\n",
    "sn.set(font_scale=1.4) # for label size\n",
    "sn.heatmap(df_cm, annot=True, annot_kws={\"size\": 16}, cmap='YlGnBu') # font size"
   ]
  },
  {
   "cell_type": "markdown",
   "metadata": {
    "id": "UH6yzYwefb1S"
   },
   "source": [
    "Exercise 2: Implementing SVM Classifier via Scikit-Learn"
   ]
  },
  {
   "cell_type": "code",
   "execution_count": 20,
   "metadata": {
    "id": "HFbznGUtfsCV"
   },
   "outputs": [],
   "source": [
    "#Tune the different SVM kernel choices provided by Scikit-Learn, and other associated hyperparameters for validation set\n",
    "from sklearn import svm"
   ]
  },
  {
   "cell_type": "code",
   "execution_count": 21,
   "metadata": {
    "id": "_TZQMT0LGB-D"
   },
   "outputs": [],
   "source": [
    "#Create array of possible parameters\n",
    "params={'kernel':['linear', 'poly', 'rbf', 'sigmoid'], \n",
    "        'C': np.logspace(-2, 10, 13), \n",
    "        'gamma': np.logspace(-9, 3, 13), \n",
    "        'degree': [2,3,5]}"
   ]
  },
  {
   "cell_type": "code",
   "execution_count": 22,
   "metadata": {
    "colab": {
     "base_uri": "https://localhost:8080/"
    },
    "id": "hBN5xACNWJWF",
    "outputId": "6f28b411-7128-4f52-c72b-67ee7d6036e6"
   },
   "outputs": [
    {
     "name": "stdout",
     "output_type": "stream",
     "text": [
      "Best accuracy for bag of words was 0.9915254237288136 with parameters ['linear', 0.1, 1000.0, 2]\n"
     ]
    }
   ],
   "source": [
    "#Evauate different parameters on validation set and choose the best ones\n",
    "max_iter=30\n",
    "accuracies=[]\n",
    "parameters=[]\n",
    "\n",
    "for i in range(max_iter):\n",
    "  k,c,g,d = params['kernel'][np.random.randint(len(params['kernel']))],params['C'][np.random.randint(len(params['C']))],params['gamma'][np.random.randint(len(params['gamma']))],params['degree'][np.random.randint(len(params['degree']))]\n",
    "  parameters.append([k,c,g,d])\n",
    "  clf = svm.SVC(kernel=k,C=c,gamma=g,degree=d)\n",
    "  clf.fit(bag_train, y_train)\n",
    "  predictions=clf.predict(bag_valid)\n",
    "  accuracies.append(accuracy(np.array(y_valid),np.array(predictions)))\n",
    "\n",
    "print(f'Best accuracy for bag of words was {np.max(np.array(accuracies))} with parameters {parameters[np.argmax(np.array(accuracies))]}')\n"
   ]
  },
  {
   "cell_type": "code",
   "execution_count": 23,
   "metadata": {
    "colab": {
     "base_uri": "https://localhost:8080/"
    },
    "id": "NtgPOoQhfwxZ",
    "outputId": "ad8d7d83-f42c-4c7f-f70e-f12816551d30"
   },
   "outputs": [
    {
     "name": "stdout",
     "output_type": "stream",
     "text": [
      "The test accuracy was 0.9661016949152542\n"
     ]
    }
   ],
   "source": [
    "#Report the test-set accuracy\n",
    "params=parameters[np.argmax(np.array(accuracies))]\n",
    "clf = svm.SVC(kernel=params[0],C=params[1],gamma=params[2],degree=params[3])\n",
    "clf.fit(bag_train, y_train)\n",
    "predictions=clf.predict(bag_test)\n",
    "\n",
    "print(f'The test accuracy was {accuracy(np.array(y_test),np.array(predictions))}')"
   ]
  },
  {
   "cell_type": "code",
   "execution_count": 24,
   "metadata": {
    "id": "Bd3TSZSJdczb"
   },
   "outputs": [],
   "source": [
    "#Create array of possible parameters\n",
    "params={'kernel':['linear', 'poly', 'rbf', 'sigmoid'], \n",
    "        'C': np.logspace(-2, 10, 13), \n",
    "        'gamma': np.logspace(-9, 3, 13), \n",
    "        'degree': [2,3,5]}"
   ]
  },
  {
   "cell_type": "code",
   "execution_count": 25,
   "metadata": {
    "colab": {
     "base_uri": "https://localhost:8080/"
    },
    "id": "WDBRqXOngK0l",
    "outputId": "f719f717-9aa9-4aea-f786-39c8583adc3b"
   },
   "outputs": [
    {
     "name": "stdout",
     "output_type": "stream",
     "text": [
      "best accuracy for TF-IDF was 0.9830508474576272 with parameters ['linear', 10000.0, 1e-09, 5]\n"
     ]
    }
   ],
   "source": [
    "#Evauate different parameters on validation set and choose the best ones\n",
    "max_iter=30\n",
    "accuracies=[]\n",
    "parameters=[]\n",
    "\n",
    "for i in range(max_iter):\n",
    "  k,c,g,d = params['kernel'][np.random.randint(len(params['kernel']))],params['C'][np.random.randint(len(params['C']))],params['gamma'][np.random.randint(len(params['gamma']))],params['degree'][np.random.randint(len(params['degree']))]\n",
    "  parameters.append([k,c,g,d])\n",
    "  clf = svm.SVC(kernel=k,C=c,gamma=g,degree=d)\n",
    "  clf.fit(tfidf_train, y_train)\n",
    "  predictions=clf.predict(tfidf_valid)\n",
    "  accuracies.append(accuracy(np.array(y_valid),np.array(predictions)))\n",
    "\n",
    "print(f'best accuracy for TF-IDF was {np.max(np.array(accuracies))} with parameters {parameters[np.argmax(np.array(accuracies))]}')"
   ]
  },
  {
   "cell_type": "code",
   "execution_count": 26,
   "metadata": {
    "colab": {
     "base_uri": "https://localhost:8080/"
    },
    "id": "iPoWUpA4c4Ra",
    "outputId": "b971e914-eec9-4fd1-d7f9-a852048796e9"
   },
   "outputs": [
    {
     "name": "stdout",
     "output_type": "stream",
     "text": [
      "The test accuracy was 0.9915254237288136\n"
     ]
    }
   ],
   "source": [
    "#Report the test-set accuracy\n",
    "params=parameters[np.argmax(np.array(accuracies))]\n",
    "clf = svm.SVC(kernel=params[0],C=params[1],gamma=params[2],degree=params[3])\n",
    "clf.fit(tfidf_train, y_train)\n",
    "predictions=clf.predict(tfidf_test)\n",
    "\n",
    "print(f'The test accuracy was {accuracy(np.array(y_test),np.array(predictions))}')"
   ]
  }
 ],
 "metadata": {
  "colab": {
   "name": "MachineLearningLab11.ipynb",
   "provenance": []
  },
  "kernelspec": {
   "display_name": "Python 3",
   "language": "python",
   "name": "python3"
  },
  "language_info": {
   "codemirror_mode": {
    "name": "ipython",
    "version": 3
   },
   "file_extension": ".py",
   "mimetype": "text/x-python",
   "name": "python",
   "nbconvert_exporter": "python",
   "pygments_lexer": "ipython3",
   "version": "3.8.8"
  }
 },
 "nbformat": 4,
 "nbformat_minor": 4
}
